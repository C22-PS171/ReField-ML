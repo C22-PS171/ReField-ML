{
  "cells": [
    {
      "cell_type": "code",
      "execution_count": 3,
      "metadata": {
        "id": "RyJfzW3sPfp1"
      },
      "outputs": [
        {
          "name": "stderr",
          "output_type": "stream",
          "text": [
            "2022-06-12 12:56:30.066773: W tensorflow/stream_executor/platform/default/dso_loader.cc:64] Could not load dynamic library 'libcudart.so.11.0'; dlerror: libcudart.so.11.0: cannot open shared object file: No such file or directory\n",
            "2022-06-12 12:56:30.066838: I tensorflow/stream_executor/cuda/cudart_stub.cc:29] Ignore above cudart dlerror if you do not have a GPU set up on your machine.\n"
          ]
        }
      ],
      "source": [
        "from typing import Dict, Text\n",
        "\n",
        "import pandas as pd\n",
        "import numpy as np\n",
        "import tensorflow as tf\n",
        "import tensorflow_recommenders as tfrs\n",
        "from tensorflow import keras\n",
        "from tensorflow.keras.models import Sequential\n",
        "from keras.layers import LSTM, Dropout, Lambda, BatchNormalization\n",
        "import matplotlib.pyplot as plt"
      ]
    },
    {
      "cell_type": "markdown",
      "metadata": {
        "id": "n8T18D9oN8X0"
      },
      "source": [
        "**FIX CODE**"
      ]
    },
    {
      "cell_type": "code",
      "execution_count": 4,
      "metadata": {
        "id": "Elz2atiF3dx9"
      },
      "outputs": [
        {
          "name": "stderr",
          "output_type": "stream",
          "text": [
            "2022-06-12 12:57:31.616982: W tensorflow/stream_executor/platform/default/dso_loader.cc:64] Could not load dynamic library 'libcuda.so.1'; dlerror: libcuda.so.1: cannot open shared object file: No such file or directory\n",
            "2022-06-12 12:57:31.617052: W tensorflow/stream_executor/cuda/cuda_driver.cc:269] failed call to cuInit: UNKNOWN ERROR (303)\n",
            "2022-06-12 12:57:31.617117: I tensorflow/stream_executor/cuda/cuda_diagnostics.cc:156] kernel driver does not appear to be running on this host (harisyf-MS-7C89): /proc/driver/nvidia/version does not exist\n",
            "2022-06-12 12:57:31.645125: I tensorflow/core/platform/cpu_feature_guard.cc:151] This TensorFlow binary is optimized with oneAPI Deep Neural Network Library (oneDNN) to use the following CPU instructions in performance-critical operations:  AVX2 FMA\n",
            "To enable them in other operations, rebuild TensorFlow with the appropriate compiler flags.\n"
          ]
        }
      ],
      "source": [
        "# Read the data\n",
        "df = pd.read_csv('/home/harisyf/Documents/Bangkit 2022/Capstone Project/Dataset_Refield.csv')\n",
        "# Get take the columns we need for training\n",
        "rating_data = df[[\"User_ID\",\"Field_ID\", \"User_Rating\",\"Field_Name\"]]\n",
        "dataset = tf.data.Dataset.from_tensor_slices((tf.cast(rating_data['User_ID'].values.reshape(-1,1), tf.int32), \n",
        "                                              tf.cast(rating_data['Field_ID'].values.reshape(-1,1), tf.int32), \n",
        "                                              tf.cast(rating_data['User_Rating'].values.reshape(-1,1),tf.float32),\n",
        "                                              tf.cast(rating_data['Field_Name'].values.reshape(-1,1), tf.string)))"
      ]
    },
    {
      "cell_type": "code",
      "execution_count": null,
      "metadata": {
        "colab": {
          "base_uri": "https://localhost:8080/"
        },
        "id": "ZLuatLG__QNf",
        "outputId": "80945578-2769-4201-da93-2f4e9807220a"
      },
      "outputs": [
        {
          "data": {
            "text/plain": [
              "<TensorSliceDataset element_spec=(TensorSpec(shape=(1,), dtype=tf.int32, name=None), TensorSpec(shape=(1,), dtype=tf.int32, name=None), TensorSpec(shape=(1,), dtype=tf.float32, name=None), TensorSpec(shape=(1,), dtype=tf.string, name=None))>"
            ]
          },
          "execution_count": 59,
          "metadata": {},
          "output_type": "execute_result"
        }
      ],
      "source": [
        "dataset"
      ]
    },
    {
      "cell_type": "code",
      "execution_count": 5,
      "metadata": {
        "id": "raPO-Ga_6WRI"
      },
      "outputs": [],
      "source": [
        "field = rating_data.Field_ID.values\n",
        "users = rating_data.User_ID.values\n",
        "name = rating_data.Field_Name.values\n",
        "\n",
        "unique_field_id = np.unique(list(field))\n",
        "unique_user_ids = np.unique(list(users))\n",
        "unique_field_name = np.unique(list(name))"
      ]
    },
    {
      "cell_type": "code",
      "execution_count": 4,
      "metadata": {
        "colab": {
          "base_uri": "https://localhost:8080/"
        },
        "id": "IorX1T-vwMz_",
        "outputId": "8d8dd9fb-f43a-4df1-8a79-f13cf598f2e4"
      },
      "outputs": [
        {
          "data": {
            "text/plain": [
              "array(['AS FUTSAL', 'Centro Futsal', 'Champion Futsal',\n",
              "       'Cililitan Badminton Hall', 'Diaz Badminton Hall',\n",
              "       'Futsal Court Cilandak Sport Centre', 'Futsal Sani',\n",
              "       'GOR Badminton Mega Kuningan', 'GOR Kurnia Badminton Court',\n",
              "       'Gedung Bulutangkis Gelora Sunter', 'Go All Futsal',\n",
              "       'Kuningan Village Futsal Field 1', 'Lapangan Badminton Tomang',\n",
              "       'Lapangan Bulu Tangkis Patra', 'Lapangan Bulutangkis Talenta',\n",
              "       'Pelangi Futsal', 'Planet Futsal', 'Royal Futsal',\n",
              "       'Supreme Arena Badminton', 'Tunas Bugar Badminton Hall'],\n",
              "      dtype='<U34')"
            ]
          },
          "execution_count": 4,
          "metadata": {},
          "output_type": "execute_result"
        }
      ],
      "source": [
        "unique_field_name"
      ]
    },
    {
      "cell_type": "code",
      "execution_count": 6,
      "metadata": {
        "id": "5IcSSF9lAFc-"
      },
      "outputs": [],
      "source": [
        "def rename(x0,x1,x2,x3):\n",
        "    y = {}\n",
        "    y[\"User_ID\"] = x0\n",
        "    y['Field_ID'] = x1\n",
        "    y['User_Rating'] = x2\n",
        "    y['Field_Name'] = x3\n",
        "    return y\n",
        "\n",
        "dataset = dataset.map(rename)"
      ]
    },
    {
      "cell_type": "code",
      "execution_count": 7,
      "metadata": {
        "id": "vQWsdgUi7gGN"
      },
      "outputs": [],
      "source": [
        "class RankingModel(tf.keras.Model):\n",
        "\n",
        "  def __init__(self):\n",
        "    super().__init__()\n",
        "    embedding_dimension = 32\n",
        "\n",
        "    # Compute embeddings for users.\n",
        "    self.user_embeddings = tf.keras.Sequential([\n",
        "      tf.keras.layers.experimental.preprocessing.IntegerLookup(\n",
        "        vocabulary=unique_user_ids, mask_token=None),\n",
        "      tf.keras.layers.Embedding(len(unique_user_ids) + 1, embedding_dimension)\n",
        "    ])\n",
        "\n",
        "    # Compute embeddings for field.\n",
        "    self.field_embeddings = tf.keras.Sequential([\n",
        "      tf.keras.layers.experimental.preprocessing.StringLookup(\n",
        "        vocabulary=unique_field_name, mask_token=None),\n",
        "      tf.keras.layers.Embedding(len(unique_field_name) + 1, embedding_dimension)\n",
        "    ])\n",
        "\n",
        "    # Compute predictions.\n",
        "    self.ratings = tf.keras.Sequential([\n",
        "      # Learn multiple dense layers.\n",
        "      tf.keras.layers.Dense(256, activation=\"relu\"),\n",
        "      tf.keras.layers.Dense(64, activation=\"relu\"),\n",
        "      # Make rating predictions in the final layer.\n",
        "      tf.keras.layers.Dense(1)\n",
        "  ])\n",
        "\n",
        "  def __call__(self, x):\n",
        "   \n",
        "    User_ID, Field_Name = x\n",
        "    user_embedding = self.user_embeddings(User_ID)\n",
        "    field_embedding = self.field_embeddings(Field_Name)\n",
        "\n",
        "    return self.ratings(tf.concat([user_embedding, field_embedding], axis=1))"
      ]
    },
    {
      "cell_type": "code",
      "execution_count": 8,
      "metadata": {
        "id": "mBsAylLT77KE"
      },
      "outputs": [],
      "source": [
        "class FieldModel(tfrs.models.Model):\n",
        "\n",
        "  def __init__(self):\n",
        "    super().__init__()\n",
        "    self.ranking_model: tf.keras.Model = RankingModel()\n",
        "    self.task: tf.keras.layers.Layer = tfrs.tasks.Ranking(\n",
        "      loss = tf.keras.losses.MeanSquaredError(),\n",
        "      metrics=[tf.keras.metrics.RootMeanSquaredError()]\n",
        "    )\n",
        "\n",
        "  def compute_loss(self, features, training=False) -> tf.Tensor:\n",
        "    print(features)\n",
        "    rating_predictions = self.ranking_model((features['User_ID'], features[\"Field_Name\"]))\n",
        "\n",
        "    # The task computes the loss and the metrics.\n",
        "    return self.task(labels=features[\"User_Rating\"], predictions=rating_predictions)"
      ]
    },
    {
      "cell_type": "code",
      "execution_count": 9,
      "metadata": {
        "id": "3q5_46cZIS8k"
      },
      "outputs": [],
      "source": [
        "tf.random.set_seed(42)\n",
        "shuffled = dataset.shuffle(8902, seed=42, reshuffle_each_iteration=False)\n",
        "\n",
        "train = shuffled.take(7122)\n",
        "test = shuffled.skip(7122).take(1780)"
      ]
    },
    {
      "cell_type": "code",
      "execution_count": 10,
      "metadata": {
        "colab": {
          "base_uri": "https://localhost:8080/"
        },
        "id": "kugLHCH58LoL",
        "outputId": "e205df1a-1f30-42ff-8725-b3d5b807d284"
      },
      "outputs": [
        {
          "name": "stdout",
          "output_type": "stream",
          "text": [
            "Epoch 1/15\n",
            "{'User_ID': <tf.Tensor 'IteratorGetNext:2' shape=(1,) dtype=int32>, 'Field_ID': <tf.Tensor 'IteratorGetNext:0' shape=(1,) dtype=int32>, 'User_Rating': <tf.Tensor 'IteratorGetNext:3' shape=(1,) dtype=float32>, 'Field_Name': <tf.Tensor 'IteratorGetNext:1' shape=(1,) dtype=string>}\n",
            "{'User_ID': <tf.Tensor 'IteratorGetNext:2' shape=(1,) dtype=int32>, 'Field_ID': <tf.Tensor 'IteratorGetNext:0' shape=(1,) dtype=int32>, 'User_Rating': <tf.Tensor 'IteratorGetNext:3' shape=(1,) dtype=float32>, 'Field_Name': <tf.Tensor 'IteratorGetNext:1' shape=(1,) dtype=string>}\n",
            "7103/7122 [============================>.] - ETA: 0s - root_mean_squared_error: 2.4574 - loss: 6.0390 - regularization_loss: 0.0000e+00 - total_loss: 6.0390{'User_ID': <tf.Tensor 'IteratorGetNext:2' shape=(1,) dtype=int32>, 'Field_ID': <tf.Tensor 'IteratorGetNext:0' shape=(1,) dtype=int32>, 'User_Rating': <tf.Tensor 'IteratorGetNext:3' shape=(1,) dtype=float32>, 'Field_Name': <tf.Tensor 'IteratorGetNext:1' shape=(1,) dtype=string>}\n",
            "7122/7122 [==============================] - 10s 774us/step - root_mean_squared_error: 2.4548 - loss: 6.0254 - regularization_loss: 0.0000e+00 - total_loss: 6.0254 - val_root_mean_squared_error: 0.9819 - val_loss: 0.1815 - val_regularization_loss: 0.0000e+00 - val_total_loss: 0.1815\n",
            "Epoch 2/15\n",
            "7122/7122 [==============================] - 5s 760us/step - root_mean_squared_error: 0.5806 - loss: 0.3370 - regularization_loss: 0.0000e+00 - total_loss: 0.3370 - val_root_mean_squared_error: 0.9703 - val_loss: 0.9779 - val_regularization_loss: 0.0000e+00 - val_total_loss: 0.9779\n",
            "Epoch 3/15\n",
            "7122/7122 [==============================] - 5s 758us/step - root_mean_squared_error: 0.3616 - loss: 0.1307 - regularization_loss: 0.0000e+00 - total_loss: 0.1307 - val_root_mean_squared_error: 0.9768 - val_loss: 1.5890 - val_regularization_loss: 0.0000e+00 - val_total_loss: 1.5890\n",
            "Epoch 4/15\n",
            "7122/7122 [==============================] - 5s 759us/step - root_mean_squared_error: 0.2331 - loss: 0.0543 - regularization_loss: 0.0000e+00 - total_loss: 0.0543 - val_root_mean_squared_error: 0.9703 - val_loss: 1.7162 - val_regularization_loss: 0.0000e+00 - val_total_loss: 1.7162\n",
            "Epoch 5/15\n",
            "7122/7122 [==============================] - 6s 786us/step - root_mean_squared_error: 0.1637 - loss: 0.0268 - regularization_loss: 0.0000e+00 - total_loss: 0.0268 - val_root_mean_squared_error: 0.9588 - val_loss: 1.3746 - val_regularization_loss: 0.0000e+00 - val_total_loss: 1.3746\n",
            "Epoch 6/15\n",
            "7122/7122 [==============================] - 6s 783us/step - root_mean_squared_error: 0.1175 - loss: 0.0138 - regularization_loss: 0.0000e+00 - total_loss: 0.0138 - val_root_mean_squared_error: 0.9550 - val_loss: 1.2216 - val_regularization_loss: 0.0000e+00 - val_total_loss: 1.2216\n",
            "Epoch 7/15\n",
            "7122/7122 [==============================] - 6s 782us/step - root_mean_squared_error: 0.0880 - loss: 0.0077 - regularization_loss: 0.0000e+00 - total_loss: 0.0077 - val_root_mean_squared_error: 0.9551 - val_loss: 1.1037 - val_regularization_loss: 0.0000e+00 - val_total_loss: 1.1037\n",
            "Epoch 8/15\n",
            "7122/7122 [==============================] - 6s 775us/step - root_mean_squared_error: 0.0705 - loss: 0.0050 - regularization_loss: 0.0000e+00 - total_loss: 0.0050 - val_root_mean_squared_error: 0.9567 - val_loss: 1.1160 - val_regularization_loss: 0.0000e+00 - val_total_loss: 1.1160\n",
            "Epoch 9/15\n",
            "7122/7122 [==============================] - 6s 781us/step - root_mean_squared_error: 0.0576 - loss: 0.0033 - regularization_loss: 0.0000e+00 - total_loss: 0.0033 - val_root_mean_squared_error: 0.9561 - val_loss: 1.0512 - val_regularization_loss: 0.0000e+00 - val_total_loss: 1.0512\n",
            "Epoch 10/15\n",
            "7122/7122 [==============================] - 6s 783us/step - root_mean_squared_error: 0.0488 - loss: 0.0024 - regularization_loss: 0.0000e+00 - total_loss: 0.0024 - val_root_mean_squared_error: 0.9562 - val_loss: 1.0400 - val_regularization_loss: 0.0000e+00 - val_total_loss: 1.0400\n",
            "Epoch 11/15\n",
            "7122/7122 [==============================] - 6s 781us/step - root_mean_squared_error: 0.0418 - loss: 0.0017 - regularization_loss: 0.0000e+00 - total_loss: 0.0017 - val_root_mean_squared_error: 0.9550 - val_loss: 1.0150 - val_regularization_loss: 0.0000e+00 - val_total_loss: 1.0150\n",
            "Epoch 12/15\n",
            "7122/7122 [==============================] - 6s 778us/step - root_mean_squared_error: 0.0379 - loss: 0.0014 - regularization_loss: 0.0000e+00 - total_loss: 0.0014 - val_root_mean_squared_error: 0.9534 - val_loss: 1.0086 - val_regularization_loss: 0.0000e+00 - val_total_loss: 1.0086\n",
            "Epoch 13/15\n",
            "7122/7122 [==============================] - 6s 777us/step - root_mean_squared_error: 0.0334 - loss: 0.0011 - regularization_loss: 0.0000e+00 - total_loss: 0.0011 - val_root_mean_squared_error: 0.9522 - val_loss: 0.9791 - val_regularization_loss: 0.0000e+00 - val_total_loss: 0.9791\n",
            "Epoch 14/15\n",
            "7122/7122 [==============================] - 6s 782us/step - root_mean_squared_error: 0.0289 - loss: 8.3507e-04 - regularization_loss: 0.0000e+00 - total_loss: 8.3507e-04 - val_root_mean_squared_error: 0.9518 - val_loss: 0.9816 - val_regularization_loss: 0.0000e+00 - val_total_loss: 0.9816\n",
            "Epoch 15/15\n",
            "7122/7122 [==============================] - 6s 780us/step - root_mean_squared_error: 0.0267 - loss: 7.1018e-04 - regularization_loss: 0.0000e+00 - total_loss: 7.1018e-04 - val_root_mean_squared_error: 0.9514 - val_loss: 0.9674 - val_regularization_loss: 0.0000e+00 - val_total_loss: 0.9674\n"
          ]
        }
      ],
      "source": [
        "model = FieldModel()\n",
        "model.compile(optimizer=tf.keras.optimizers.Adagrad(learning_rate=0.4))\n",
        "\n",
        "# Training \n",
        "history = model.fit(train, validation_data = test, epochs=15)\n"
      ]
    },
    {
      "cell_type": "code",
      "execution_count": 27,
      "metadata": {
        "colab": {
          "base_uri": "https://localhost:8080/"
        },
        "id": "az1Fh61hHxuL",
        "outputId": "f7bd62c6-af44-4d85-b1c0-3043856a5d67"
      },
      "outputs": [
        {
          "name": "stdout",
          "output_type": "stream",
          "text": [
            "dict_keys(['root_mean_squared_error', 'loss', 'regularization_loss', 'total_loss', 'val_root_mean_squared_error', 'val_loss', 'val_regularization_loss', 'val_total_loss'])\n"
          ]
        }
      ],
      "source": [
        "print(history.history.keys())"
      ]
    },
    {
      "cell_type": "code",
      "execution_count": 11,
      "metadata": {
        "colab": {
          "base_uri": "https://localhost:8080/",
          "height": 295
        },
        "id": "yCuiwmW-HLJM",
        "outputId": "b55599dd-a6d6-4d85-81f5-8cd1099a131e"
      },
      "outputs": [
        {
          "data": {
            "image/png": "[encoded data removed]",
            "text/plain": [
              "<Figure size 432x288 with 1 Axes>"
            ]
          },
          "metadata": {
            "needs_background": "light"
          },
          "output_type": "display_data"
        }
      ],
      "source": [
        "# summarize history for loss\n",
        "plt.plot(history.history['loss'])\n",
        "plt.plot(history.history['val_loss'])\n",
        "plt.title('model loss')\n",
        "plt.ylabel('loss')\n",
        "plt.xlabel('epoch')\n",
        "plt.legend(['train', 'test'], loc='upper left')\n",
        "plt.show()"
      ]
    },
    {
      "cell_type": "code",
      "execution_count": 65,
      "metadata": {
        "colab": {
          "base_uri": "https://localhost:8080/"
        },
        "id": "hRVDPKTsBChm",
        "outputId": "78d513cb-4f2c-468b-e86b-81847864eb59"
      },
      "outputs": [
        {
          "name": "stdout",
          "output_type": "stream",
          "text": [
            "Royal Futsal\n",
            "GOR Kurnia Badminton Court\n",
            "Pelangi Futsal\n",
            "AS FUTSAL\n",
            "Cililitan Badminton Hall\n",
            "Centro Futsal\n",
            "Futsal Sani\n",
            "Kuningan Village Futsal Field 1\n",
            "GOR Badminton Mega Kuningan\n",
            "Go All Futsal\n",
            "Planet Futsal\n",
            "Tunas Bugar Badminton Hall\n",
            "Diaz Badminton Hall\n",
            "Lapangan Bulu Tangkis Patra\n",
            "Lapangan Bulutangkis Talenta\n",
            "Supreme Arena Badminton\n",
            "Lapangan Badminton Tomang\n",
            "Gedung Bulutangkis Gelora Sunter\n",
            "Futsal Court Cilandak Sport Centre\n",
            "Champion Futsal\n"
          ]
        }
      ],
      "source": [
        "# Create array with users id in every place on the lenght of the unique books number\n",
        "id_ = input('Enter the user_id: ')\n",
        "user = np.array([id_ for i in range(len(unique_field_id))])\n",
        "vector = np.vectorize(np.int32)\n",
        "user = vector(user)\n",
        "# Convert it to tf.data.Dataset \n",
        "test_data = tf.data.Dataset.from_tensor_slices((tf.cast(user.reshape(-1,1), tf.int32), \n",
        "                                                tf.cast(unique_field_name.reshape(-1,1), tf.string)))\n",
        "# Name the columns \n",
        "def rename_test(x0,x1):\n",
        "    y = {}\n",
        "    y[\"User_ID\"] = x0\n",
        "    y['Field_Name'] = x1\n",
        "    return y\n",
        "test_data = test_data.map(rename_test)\n",
        "\n",
        "# Now lets make predictions and store them in to dictionary\n",
        "test_ratings = {}\n",
        "for b in test_data:\n",
        "    test_ratings[b['Field_Name'].numpy()[0]] = model.ranking_model((b['User_ID'],b['Field_Name']))\n",
        "\n",
        "# sort them by score and print the titles \n",
        "for b in sorted(test_ratings, key=test_ratings.get):\n",
        "    print(b.decode('utf-8'))"
      ]
    },
    {
      "cell_type": "code",
      "execution_count": null,
      "metadata": {
        "id": "3xP2nysIHI4c"
      },
      "outputs": [],
      "source": [
        "model.save_weights('/content')"
      ]
    },
    {
      "cell_type": "code",
      "execution_count": 12,
      "metadata": {
        "id": "foYeooF7ZZTA"
      },
      "outputs": [],
      "source": [
        "refield_model = \"refield-model\""
      ]
    },
    {
      "cell_type": "code",
      "execution_count": 13,
      "metadata": {
        "colab": {
          "base_uri": "https://localhost:8080/"
        },
        "id": "NYo0kybRIVRX",
        "outputId": "5262b9e4-a033-43a6-a821-e63f45af6d50"
      },
      "outputs": [
        {
          "name": "stdout",
          "output_type": "stream",
          "text": [
            "WARNING:tensorflow:Skipping full serialization of Keras layer <__main__.FieldModel object at 0x7f726e89e3d0>, because it is not built.\n",
            "WARNING:tensorflow:Skipping full serialization of Keras layer <__main__.RankingModel object at 0x7f726e89e460>, because it is not built.\n"
          ]
        },
        {
          "name": "stderr",
          "output_type": "stream",
          "text": [
            "2022-06-12 13:00:06.283615: W tensorflow/python/util/util.cc:368] Sets are not currently considered sequences, but this may change in the future, so consider avoiding using them.\n",
            "WARNING:absl:Found untraced functions such as ranking_layer_call_fn, ranking_layer_call_and_return_conditional_losses while saving (showing 2 of 2). These functions will not be directly callable after loading.\n"
          ]
        },
        {
          "name": "stdout",
          "output_type": "stream",
          "text": [
            "INFO:tensorflow:Assets written to: refield-model/assets\n"
          ]
        },
        {
          "name": "stderr",
          "output_type": "stream",
          "text": [
            "INFO:tensorflow:Assets written to: refield-model/assets\n"
          ]
        }
      ],
      "source": [
        "tf.saved_model.save(model,refield_model)"
      ]
    },
    {
      "cell_type": "code",
      "execution_count": 18,
      "metadata": {},
      "outputs": [
        {
          "name": "stdout",
          "output_type": "stream",
          "text": [
            "_SignatureMap({})\n"
          ]
        }
      ],
      "source": [
        "imported = tf.saved_model.load(refield_model)\n",
        "print(imported.signatures)"
      ]
    },
    {
      "cell_type": "code",
      "execution_count": 19,
      "metadata": {},
      "outputs": [
        {
          "ename": "ValueError",
          "evalue": "Only support at least one signature key.",
          "output_type": "error",
          "traceback": [
            "\u001b[0;31m---------------------------------------------------------------------------\u001b[0m",
            "\u001b[0;31mValueError\u001b[0m                                Traceback (most recent call last)",
            "\u001b[1;32m/home/harisyf/Documents/Bangkit 2022/Capstone Project/Capstone_Refieldv2 (1).ipynb Cell 24'\u001b[0m in \u001b[0;36m<cell line: 1>\u001b[0;34m()\u001b[0m\n\u001b[0;32m----> <a href='vscode-notebook-cell:/home/harisyf/Documents/Bangkit%202022/Capstone%20Project/Capstone_Refieldv2%20%281%29.ipynb#ch0000028?line=0'>1</a>\u001b[0m converter \u001b[39m=\u001b[39m tf\u001b[39m.\u001b[39;49mlite\u001b[39m.\u001b[39;49mTFLiteConverter\u001b[39m.\u001b[39;49mfrom_saved_model(refield_model,signature_keys\u001b[39m=\u001b[39;49m[])\n\u001b[1;32m      <a href='vscode-notebook-cell:/home/harisyf/Documents/Bangkit%202022/Capstone%20Project/Capstone_Refieldv2%20%281%29.ipynb#ch0000028?line=1'>2</a>\u001b[0m converter\u001b[39m.\u001b[39mtarget_spec\u001b[39m.\u001b[39msupported_ops \u001b[39m=\u001b[39m [\n\u001b[1;32m      <a href='vscode-notebook-cell:/home/harisyf/Documents/Bangkit%202022/Capstone%20Project/Capstone_Refieldv2%20%281%29.ipynb#ch0000028?line=2'>3</a>\u001b[0m   tf\u001b[39m.\u001b[39mlite\u001b[39m.\u001b[39mOpsSet\u001b[39m.\u001b[39mTFLITE_BUILTINS, \u001b[39m# enable TensorFlow Lite ops.\u001b[39;00m\n\u001b[1;32m      <a href='vscode-notebook-cell:/home/harisyf/Documents/Bangkit%202022/Capstone%20Project/Capstone_Refieldv2%20%281%29.ipynb#ch0000028?line=3'>4</a>\u001b[0m   tf\u001b[39m.\u001b[39mlite\u001b[39m.\u001b[39mOpsSet\u001b[39m.\u001b[39mSELECT_TF_OPS \u001b[39m# enable TensorFlow ops.\u001b[39;00m\n\u001b[1;32m      <a href='vscode-notebook-cell:/home/harisyf/Documents/Bangkit%202022/Capstone%20Project/Capstone_Refieldv2%20%281%29.ipynb#ch0000028?line=4'>5</a>\u001b[0m ]\n",
            "File \u001b[0;32m~/.local/lib/python3.8/site-packages/tensorflow/lite/python/lite.py:1653\u001b[0m, in \u001b[0;36mTFLiteConverterV2.from_saved_model\u001b[0;34m(cls, saved_model_dir, signature_keys, tags)\u001b[0m\n\u001b[1;32m   <a href='file:///home/harisyf/.local/lib/python3.8/site-packages/tensorflow/lite/python/lite.py?line=1649'>1650</a>\u001b[0m   signature_keys \u001b[39m=\u001b[39m saved_model\u001b[39m.\u001b[39msignatures\n\u001b[1;32m   <a href='file:///home/harisyf/.local/lib/python3.8/site-packages/tensorflow/lite/python/lite.py?line=1651'>1652</a>\u001b[0m \u001b[39mif\u001b[39;00m \u001b[39mnot\u001b[39;00m signature_keys:\n\u001b[0;32m-> <a href='file:///home/harisyf/.local/lib/python3.8/site-packages/tensorflow/lite/python/lite.py?line=1652'>1653</a>\u001b[0m   \u001b[39mraise\u001b[39;00m \u001b[39mValueError\u001b[39;00m(\u001b[39m\"\u001b[39m\u001b[39mOnly support at least one signature key.\u001b[39m\u001b[39m\"\u001b[39m)\n\u001b[1;32m   <a href='file:///home/harisyf/.local/lib/python3.8/site-packages/tensorflow/lite/python/lite.py?line=1654'>1655</a>\u001b[0m funcs \u001b[39m=\u001b[39m []\n\u001b[1;32m   <a href='file:///home/harisyf/.local/lib/python3.8/site-packages/tensorflow/lite/python/lite.py?line=1655'>1656</a>\u001b[0m \u001b[39mfor\u001b[39;00m key \u001b[39min\u001b[39;00m signature_keys:\n",
            "\u001b[0;31mValueError\u001b[0m: Only support at least one signature key."
          ]
        }
      ],
      "source": [
        "converter = tf.lite.TFLiteConverter.from_saved_model(refield_model,signature_keys=[])\n",
        "converter.target_spec.supported_ops = [\n",
        "  tf.lite.OpsSet.TFLITE_BUILTINS, # enable TensorFlow Lite ops.\n",
        "  tf.lite.OpsSet.SELECT_TF_OPS # enable TensorFlow ops.\n",
        "]\n"
      ]
    },
    {
      "cell_type": "code",
      "execution_count": null,
      "metadata": {},
      "outputs": [],
      "source": [
        "tflite_model = converter.convert()\n",
        "open(\"converted_model.tflite\", \"wb\").write(tflite_model)"
      ]
    },
    {
      "cell_type": "code",
      "execution_count": null,
      "metadata": {
        "colab": {
          "base_uri": "https://localhost:8080/",
          "height": 338
        },
        "id": "CeY3YI8StEW1",
        "outputId": "e5d6eef4-c4fd-4ad0-ec89-caabbbec0338"
      },
      "outputs": [
        {
          "ename": "ValueError",
          "evalue": "ignored",
          "output_type": "error",
          "traceback": [
            "\u001b[0;31m---------------------------------------------------------------------------\u001b[0m",
            "\u001b[0;31mValueError\u001b[0m                                Traceback (most recent call last)",
            "\u001b[0;32m<ipython-input-18-5fced34f789f>\u001b[0m in \u001b[0;36m<module>\u001b[0;34m()\u001b[0m\n\u001b[1;32m      1\u001b[0m \u001b[0;31m# Convert the model\u001b[0m\u001b[0;34m\u001b[0m\u001b[0;34m\u001b[0m\u001b[0;34m\u001b[0m\u001b[0m\n\u001b[0;32m----> 2\u001b[0;31m \u001b[0mconverter\u001b[0m \u001b[0;34m=\u001b[0m \u001b[0mtf\u001b[0m\u001b[0;34m.\u001b[0m\u001b[0mlite\u001b[0m\u001b[0;34m.\u001b[0m\u001b[0mTFLiteConverter\u001b[0m\u001b[0;34m.\u001b[0m\u001b[0mfrom_saved_model\u001b[0m\u001b[0;34m(\u001b[0m\u001b[0mrefield_model\u001b[0m\u001b[0;34m)\u001b[0m \u001b[0;31m# path to the SavedModel directory\u001b[0m\u001b[0;34m\u001b[0m\u001b[0;34m\u001b[0m\u001b[0m\n\u001b[0m\u001b[1;32m      3\u001b[0m \u001b[0mtflite_model\u001b[0m \u001b[0;34m=\u001b[0m \u001b[0mconverter\u001b[0m\u001b[0;34m.\u001b[0m\u001b[0mconvert\u001b[0m\u001b[0;34m(\u001b[0m\u001b[0;34m)\u001b[0m\u001b[0;34m\u001b[0m\u001b[0;34m\u001b[0m\u001b[0m\n",
            "\u001b[0;32m/usr/local/lib/python3.7/dist-packages/tensorflow/lite/python/lite.py\u001b[0m in \u001b[0;36mfrom_saved_model\u001b[0;34m(cls, saved_model_dir, signature_keys, tags)\u001b[0m\n\u001b[1;32m   1651\u001b[0m \u001b[0;34m\u001b[0m\u001b[0m\n\u001b[1;32m   1652\u001b[0m     \u001b[0;32mif\u001b[0m \u001b[0;32mnot\u001b[0m \u001b[0msignature_keys\u001b[0m\u001b[0;34m:\u001b[0m\u001b[0;34m\u001b[0m\u001b[0;34m\u001b[0m\u001b[0m\n\u001b[0;32m-> 1653\u001b[0;31m       \u001b[0;32mraise\u001b[0m \u001b[0mValueError\u001b[0m\u001b[0;34m(\u001b[0m\u001b[0;34m\"Only support at least one signature key.\"\u001b[0m\u001b[0;34m)\u001b[0m\u001b[0;34m\u001b[0m\u001b[0;34m\u001b[0m\u001b[0m\n\u001b[0m\u001b[1;32m   1654\u001b[0m \u001b[0;34m\u001b[0m\u001b[0m\n\u001b[1;32m   1655\u001b[0m     \u001b[0mfuncs\u001b[0m \u001b[0;34m=\u001b[0m \u001b[0;34m[\u001b[0m\u001b[0;34m]\u001b[0m\u001b[0;34m\u001b[0m\u001b[0;34m\u001b[0m\u001b[0m\n",
            "\u001b[0;31mValueError\u001b[0m: Only support at least one signature key."
          ]
        }
      ],
      "source": [
        "# Convert the model\n",
        "converter = tf.lite.TFLiteConverter.from_saved_model(refield_model) # path to the SavedModel directory\n",
        "tflite_model = converter.convert()"
      ]
    },
    {
      "cell_type": "code",
      "execution_count": null,
      "metadata": {
        "colab": {
          "base_uri": "https://localhost:8080/"
        },
        "id": "MN4Bc_GGZblm",
        "outputId": "99c654cb-4197-415e-c074-63e7f578a6ae"
      },
      "outputs": [
        {
          "name": "stdout",
          "output_type": "stream",
          "text": [
            "WARNING:tensorflow:Skipping full serialization of Keras layer <__main__.FieldModel object at 0x7fda08ec1d50>, because it is not built.\n"
          ]
        },
        {
          "name": "stderr",
          "output_type": "stream",
          "text": [
            "WARNING:tensorflow:Skipping full serialization of Keras layer <__main__.FieldModel object at 0x7fda08ec1d50>, because it is not built.\n"
          ]
        },
        {
          "name": "stdout",
          "output_type": "stream",
          "text": [
            "WARNING:tensorflow:Skipping full serialization of Keras layer <__main__.RankingModel object at 0x7fda08ecba50>, because it is not built.\n"
          ]
        },
        {
          "name": "stderr",
          "output_type": "stream",
          "text": [
            "WARNING:tensorflow:Skipping full serialization of Keras layer <__main__.RankingModel object at 0x7fda08ecba50>, because it is not built.\n",
            "WARNING:absl:Found untraced functions such as ranking_layer_call_fn, ranking_layer_call_and_return_conditional_losses while saving (showing 2 of 2). These functions will not be directly callable after loading.\n"
          ]
        },
        {
          "name": "stdout",
          "output_type": "stream",
          "text": [
            "INFO:tensorflow:Assets written to: refield-model/assets\n"
          ]
        },
        {
          "name": "stderr",
          "output_type": "stream",
          "text": [
            "INFO:tensorflow:Assets written to: refield-model/assets\n"
          ]
        }
      ],
      "source": [
        "tf.saved_model.save(model, refield_model,\n",
        "                    signatures={\n",
        "                        'RankingModel': model.RankingModel.get_concrete_function(),\n",
        "                        'FieldModel': model.FieldModel.get_concrete_function()\n",
        "                        })"
      ]
    },
    {
      "cell_type": "code",
      "execution_count": null,
      "metadata": {
        "colab": {
          "base_uri": "https://localhost:8080/"
        },
        "id": "8CYo4xIkYkGC",
        "outputId": "5245aa49-17b3-4684-ff6b-95f27fefc45b"
      },
      "outputs": [
        {
          "name": "stderr",
          "output_type": "stream",
          "text": [
            "2022-06-11 09:55:31.476740: E tensorflow/stream_executor/cuda/cuda_driver.cc:271] failed call to cuInit: CUDA_ERROR_NO_DEVICE: no CUDA-capable device is detected\n",
            "Traceback (most recent call last):\n",
            "  File \"/usr/local/bin/tflite_convert\", line 8, in <module>\n",
            "    sys.exit(main())\n",
            "  File \"/usr/local/lib/python3.7/dist-packages/tensorflow/lite/python/tflite_convert.py\", line 693, in main\n",
            "    app.run(main=run_main, argv=sys.argv[:1])\n",
            "  File \"/usr/local/lib/python3.7/dist-packages/absl/app.py\", line 312, in run\n",
            "    _run_main(main, args)\n",
            "  File \"/usr/local/lib/python3.7/dist-packages/absl/app.py\", line 258, in _run_main\n",
            "    sys.exit(main(argv))\n",
            "  File \"/usr/local/lib/python3.7/dist-packages/tensorflow/lite/python/tflite_convert.py\", line 676, in run_main\n",
            "    _convert_tf2_model(tflite_flags)\n",
            "  File \"/usr/local/lib/python3.7/dist-packages/tensorflow/lite/python/tflite_convert.py\", line 280, in _convert_tf2_model\n",
            "    tags=_parse_set(flags.saved_model_tag_set))\n",
            "  File \"/usr/local/lib/python3.7/dist-packages/tensorflow/lite/python/lite.py\", line 1653, in from_saved_model\n",
            "    raise ValueError(\"Only support at least one signature key.\")\n",
            "ValueError: Only support at least one signature key.\n"
          ]
        }
      ],
      "source": [
        "%%bash -s $refield_model\n",
        "tflite_convert \\\n",
        "         --output_file=/content/foo.tflite \\\n",
        "         --saved_model_dir=/content/refield-model \\\n",
        "         --saved_model_signature_key=''"
      ]
    },
    {
      "cell_type": "code",
      "execution_count": null,
      "metadata": {
        "colab": {
          "base_uri": "https://localhost:8080/",
          "height": 393
        },
        "id": "Y89yjpbQYN_u",
        "outputId": "eb5c1256-e7ac-4f9f-b8d3-d2e2090d4255"
      },
      "outputs": [
        {
          "name": "stdout",
          "output_type": "stream",
          "text": [
            "[]\n"
          ]
        },
        {
          "ename": "KeyError",
          "evalue": "ignored",
          "output_type": "error",
          "traceback": [
            "\u001b[0;31m---------------------------------------------------------------------------\u001b[0m",
            "\u001b[0;31mKeyError\u001b[0m                                  Traceback (most recent call last)",
            "\u001b[0;32m<ipython-input-17-f359b1721a14>\u001b[0m in \u001b[0;36m<module>\u001b[0;34m()\u001b[0m\n\u001b[1;32m      2\u001b[0m \u001b[0;34m\u001b[0m\u001b[0m\n\u001b[1;32m      3\u001b[0m \u001b[0mprint\u001b[0m\u001b[0;34m(\u001b[0m\u001b[0mlist\u001b[0m\u001b[0;34m(\u001b[0m\u001b[0mloaded\u001b[0m\u001b[0;34m.\u001b[0m\u001b[0msignatures\u001b[0m\u001b[0;34m.\u001b[0m\u001b[0mkeys\u001b[0m\u001b[0;34m(\u001b[0m\u001b[0;34m)\u001b[0m\u001b[0;34m)\u001b[0m\u001b[0;34m)\u001b[0m\u001b[0;34m\u001b[0m\u001b[0;34m\u001b[0m\u001b[0m\n\u001b[0;32m----> 4\u001b[0;31m \u001b[0minfer\u001b[0m \u001b[0;34m=\u001b[0m \u001b[0mloaded\u001b[0m\u001b[0;34m.\u001b[0m\u001b[0msignatures\u001b[0m\u001b[0;34m[\u001b[0m\u001b[0;34m\"serving_default\"\u001b[0m\u001b[0;34m]\u001b[0m\u001b[0;34m\u001b[0m\u001b[0;34m\u001b[0m\u001b[0m\n\u001b[0m\u001b[1;32m      5\u001b[0m \u001b[0mprint\u001b[0m\u001b[0;34m(\u001b[0m\u001b[0minfer\u001b[0m\u001b[0;34m.\u001b[0m\u001b[0mstructured_input_signature\u001b[0m\u001b[0;34m)\u001b[0m\u001b[0;34m\u001b[0m\u001b[0;34m\u001b[0m\u001b[0m\n\u001b[1;32m      6\u001b[0m \u001b[0mprint\u001b[0m\u001b[0;34m(\u001b[0m\u001b[0minfer\u001b[0m\u001b[0;34m.\u001b[0m\u001b[0mstructured_outputs\u001b[0m\u001b[0;34m)\u001b[0m\u001b[0;34m\u001b[0m\u001b[0;34m\u001b[0m\u001b[0m\n",
            "\u001b[0;32m/usr/local/lib/python3.7/dist-packages/tensorflow/python/saved_model/signature_serialization.py\u001b[0m in \u001b[0;36m__getitem__\u001b[0;34m(self, key)\u001b[0m\n\u001b[1;32m    245\u001b[0m \u001b[0;34m\u001b[0m\u001b[0m\n\u001b[1;32m    246\u001b[0m   \u001b[0;32mdef\u001b[0m \u001b[0m__getitem__\u001b[0m\u001b[0;34m(\u001b[0m\u001b[0mself\u001b[0m\u001b[0;34m,\u001b[0m \u001b[0mkey\u001b[0m\u001b[0;34m)\u001b[0m\u001b[0;34m:\u001b[0m\u001b[0;34m\u001b[0m\u001b[0;34m\u001b[0m\u001b[0m\n\u001b[0;32m--> 247\u001b[0;31m     \u001b[0;32mreturn\u001b[0m \u001b[0mself\u001b[0m\u001b[0;34m.\u001b[0m\u001b[0m_signatures\u001b[0m\u001b[0;34m[\u001b[0m\u001b[0mkey\u001b[0m\u001b[0;34m]\u001b[0m\u001b[0;34m\u001b[0m\u001b[0;34m\u001b[0m\u001b[0m\n\u001b[0m\u001b[1;32m    248\u001b[0m \u001b[0;34m\u001b[0m\u001b[0m\n\u001b[1;32m    249\u001b[0m   \u001b[0;32mdef\u001b[0m \u001b[0m__iter__\u001b[0m\u001b[0;34m(\u001b[0m\u001b[0mself\u001b[0m\u001b[0;34m)\u001b[0m\u001b[0;34m:\u001b[0m\u001b[0;34m\u001b[0m\u001b[0;34m\u001b[0m\u001b[0m\n",
            "\u001b[0;31mKeyError\u001b[0m: 'serving_default'"
          ]
        }
      ],
      "source": [
        "loaded = tf.saved_model.load(refield_model)\n",
        "\n",
        "print(list(loaded.signatures.keys()))\n",
        "infer = loaded.signatures[\"serving_default\"]\n",
        "print(infer.structured_input_signature)\n",
        "print(infer.structured_outputs)\n",
        "\n",
        "#export using tflite\n",
        "converter = tf.lite.TFLiteConverter.from_saved_model(refield_model)\n",
        "converter.optimizations = [tf.lite.Optimize.OPTIMIZE_FOR_SIZE]\n",
        "tflite_model = converter.convert()"
      ]
    },
    {
      "cell_type": "code",
      "execution_count": null,
      "metadata": {
        "colab": {
          "base_uri": "https://localhost:8080/",
          "height": 375
        },
        "id": "sFG-NATubUaB",
        "outputId": "12e3a1b0-40c7-453b-9704-93b4244bf624"
      },
      "outputs": [
        {
          "ename": "ValueError",
          "evalue": "ignored",
          "output_type": "error",
          "traceback": [
            "\u001b[0;31m---------------------------------------------------------------------------\u001b[0m",
            "\u001b[0;31mValueError\u001b[0m                                Traceback (most recent call last)",
            "\u001b[0;32m<ipython-input-16-f8639ff25c3f>\u001b[0m in \u001b[0;36m<module>\u001b[0;34m()\u001b[0m\n\u001b[1;32m      2\u001b[0m \u001b[0;34m\u001b[0m\u001b[0m\n\u001b[1;32m      3\u001b[0m \u001b[0;31m# Convert the saved model using TFLiteConverter\u001b[0m\u001b[0;34m\u001b[0m\u001b[0;34m\u001b[0m\u001b[0;34m\u001b[0m\u001b[0m\n\u001b[0;32m----> 4\u001b[0;31m \u001b[0mconverter\u001b[0m \u001b[0;34m=\u001b[0m \u001b[0mtf\u001b[0m\u001b[0;34m.\u001b[0m\u001b[0mlite\u001b[0m\u001b[0;34m.\u001b[0m\u001b[0mTFLiteConverter\u001b[0m\u001b[0;34m.\u001b[0m\u001b[0mfrom_saved_model\u001b[0m\u001b[0;34m(\u001b[0m\u001b[0mrefield_model\u001b[0m\u001b[0;34m)\u001b[0m\u001b[0;34m\u001b[0m\u001b[0;34m\u001b[0m\u001b[0m\n\u001b[0m\u001b[1;32m      5\u001b[0m converter.target_spec.supported_ops = [\n\u001b[1;32m      6\u001b[0m     \u001b[0mtf\u001b[0m\u001b[0;34m.\u001b[0m\u001b[0mlite\u001b[0m\u001b[0;34m.\u001b[0m\u001b[0mOpsSet\u001b[0m\u001b[0;34m.\u001b[0m\u001b[0mTFLITE_BUILTINS\u001b[0m\u001b[0;34m,\u001b[0m  \u001b[0;31m# enable TensorFlow Lite ops.\u001b[0m\u001b[0;34m\u001b[0m\u001b[0;34m\u001b[0m\u001b[0m\n",
            "\u001b[0;32m/usr/local/lib/python3.7/dist-packages/tensorflow/lite/python/lite.py\u001b[0m in \u001b[0;36mfrom_saved_model\u001b[0;34m(cls, saved_model_dir, signature_keys, tags)\u001b[0m\n\u001b[1;32m   1651\u001b[0m \u001b[0;34m\u001b[0m\u001b[0m\n\u001b[1;32m   1652\u001b[0m     \u001b[0;32mif\u001b[0m \u001b[0;32mnot\u001b[0m \u001b[0msignature_keys\u001b[0m\u001b[0;34m:\u001b[0m\u001b[0;34m\u001b[0m\u001b[0;34m\u001b[0m\u001b[0m\n\u001b[0;32m-> 1653\u001b[0;31m       \u001b[0;32mraise\u001b[0m \u001b[0mValueError\u001b[0m\u001b[0;34m(\u001b[0m\u001b[0;34m\"Only support at least one signature key.\"\u001b[0m\u001b[0;34m)\u001b[0m\u001b[0;34m\u001b[0m\u001b[0;34m\u001b[0m\u001b[0m\n\u001b[0m\u001b[1;32m   1654\u001b[0m \u001b[0;34m\u001b[0m\u001b[0m\n\u001b[1;32m   1655\u001b[0m     \u001b[0mfuncs\u001b[0m \u001b[0;34m=\u001b[0m \u001b[0;34m[\u001b[0m\u001b[0;34m]\u001b[0m\u001b[0;34m\u001b[0m\u001b[0;34m\u001b[0m\u001b[0m\n",
            "\u001b[0;31mValueError\u001b[0m: Only support at least one signature key."
          ]
        }
      ],
      "source": [
        "loaded = tf.saved_model.load(refield_model)\n",
        "\n",
        "# Convert the saved model using TFLiteConverter\n",
        "converter = tf.lite.TFLiteConverter.from_saved_model(refield_model)\n",
        "converter.target_spec.supported_ops = [\n",
        "    tf.lite.OpsSet.TFLITE_BUILTINS,  # enable TensorFlow Lite ops.\n",
        "    tf.lite.OpsSet.SELECT_TF_OPS  # enable TensorFlow ops.\n",
        "]\n",
        "tflite_model = converter.convert()\n",
        "\n",
        "# Print the signatures from the converted model\n",
        "interpreter = tf.lite.Interpreter(model_content=tflite_model)\n",
        "signatures = interpreter.get_signature_list()\n",
        "print(signatures)"
      ]
    }
  ],
  "metadata": {
    "colab": {
      "collapsed_sections": [],
      "name": "Capstone_Refieldv2.ipynb",
      "provenance": []
    },
    "kernelspec": {
      "display_name": "Python 3",
      "name": "python3"
    },
    "language_info": {
      "codemirror_mode": {
        "name": "ipython",
        "version": 3
      },
      "file_extension": ".py",
      "mimetype": "text/x-python",
      "name": "python",
      "nbconvert_exporter": "python",
      "pygments_lexer": "ipython3",
      "version": "3.8.10"
    }
  },
  "nbformat": 4,
  "nbformat_minor": 0
}
